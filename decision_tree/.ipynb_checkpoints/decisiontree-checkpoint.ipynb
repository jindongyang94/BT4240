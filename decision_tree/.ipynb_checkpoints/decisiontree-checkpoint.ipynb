{
 "cells": [
  {
   "cell_type": "markdown",
   "metadata": {},
   "source": [
    "# Decision Tree Experimentation\n",
    "First, we import all relevant packages\n",
    "\n",
    "The crossvalidation's train_test_split() help us by splitting data into train & test set. This is easy way out before we do further processing:\n",
    "We should preprocess the data by partioning with the same percentage for training, cross_validation and test set."
   ]
  },
  {
   "cell_type": "code",
   "execution_count": 14,
   "metadata": {},
   "outputs": [],
   "source": [
    "import numpy as np\n",
    "import pandas as pd\n",
    "from sklearn.model_selection import train_test_split\n",
    "from sklearn.tree import DecisionTreeClassifier\n",
    "from sklearn.metrics import accuracy_score, classification_report, f1_score, confusion_matrix\n",
    "from sklearn import tree\n",
    "from sklearn.model_selection import cross_val_score\n",
    "\n",
    "import matplotlib.pyplot as plt\n",
    "from matplotlib.legend_handler import HandlerLine2D"
   ]
  },
  {
   "cell_type": "markdown",
   "metadata": {},
   "source": [
    "## Dataset Directories"
   ]
  },
  {
   "cell_type": "code",
   "execution_count": 24,
   "metadata": {},
   "outputs": [],
   "source": [
    "# Input data before feature selection\n",
    "input_data_before_fs = pd.read_csv('processed_train.csv', index_col=0)\n",
    "\n",
    "# Input data after feature selection\n",
    "input_data_after_fs = pd.read_csv('processed_train_after_feature.csv', index_col=0)\n",
    "\n",
    "# Upsampling without feature selection\n",
    "\n",
    "# Upsampling with feature selection\n",
    "\n",
    "# Downsampling without feature selection\n",
    "\n",
    "# Upsampling with feature selection\n",
    "\n",
    "\n",
    "# List of all the input data\n",
    "input_all = {\n",
    "    \"normal_before_fs\" : input_data_before_fs,\n",
    "    \"normal_after_fs\" : input_data_after_fs\n",
    "}"
   ]
  },
  {
   "cell_type": "code",
   "execution_count": 25,
   "metadata": {},
   "outputs": [],
   "source": [
    "# for input in all_input:\n",
    "#     print (\"Dataset Length:: \", len(input))\n",
    "#     print (\"Dataset Shape: \", input.shape)\n",
    "#     input_data.info()\n",
    "#     input_data.head(5)"
   ]
  },
  {
   "cell_type": "markdown",
   "metadata": {},
   "source": [
    "## General Functions"
   ]
  },
  {
   "cell_type": "code",
   "execution_count": 33,
   "metadata": {},
   "outputs": [],
   "source": [
    "def preprocessing(data):\n",
    "    #Split data into variables types - boolean, categorical, continuous, ID\n",
    "    bool_var = list(data.select_dtypes(['bool']))\n",
    "    cont_var = list(data.select_dtypes(['float64']))\n",
    "    cat_var = list(data.select_dtypes(['int64']))\n",
    "\n",
    "    #Input Data can be from all except id details\n",
    "    final_input_data = data[cat_var + cont_var + bool_var]\n",
    "    \n",
    "    x = final_input_data.loc[:, final_input_data.columns != 'Target'].values\n",
    "    y = final_input_data['Target'].values\n",
    "    y=y.astype('int')\n",
    "    \n",
    "    x_train, x_test, y_train, y_test = train_test_split(x, y, test_size = 0.25, \n",
    "                                                    random_state = 100 , stratify = y)\n",
    "    \n",
    "    return x_train, x_test, y_train, y_test"
   ]
  },
  {
   "cell_type": "code",
   "execution_count": 15,
   "metadata": {},
   "outputs": [],
   "source": [
    "from sklearn.model_selection import cross_val_score, StratifiedKFold\n",
    "from sklearn.model_selection import cross_validate\n",
    "\n",
    "def tenfold(model, x, y, metric='accuracy'):\n",
    "    kfold = StratifiedKFold(n_splits=10, random_state=100, shuffle=True)\n",
    "    scores = cross_validate(model, x, y, cv=kfold, scoring=metric, \n",
    "                            return_train_score=True)\n",
    "    return scores\n",
    "\n",
    "# accuracy_mean = scores['test_score'].mean()\n",
    "# accuracy_std = scores['train_score'].std()"
   ]
  },
  {
   "cell_type": "code",
   "execution_count": null,
   "metadata": {},
   "outputs": [],
   "source": [
    "def metric_consolidation(input_all, classifier, method = \"cross_validation\"):\n",
    "    metrics = ['accuracy', 'f1_score', 'confusion_matrix']\n",
    "    \n",
    "    for input_name, input_data in input_all.items():\n",
    "        # split the data\n",
    "        x_train, x_test, y_train, y_test = preprocessing(input_data)\n",
    "\n",
    "        # fit the classifier to the training data\n",
    "        classifier.fit(x_train, y_train)\n",
    "\n",
    "        # apply all metrics to the classifier\n",
    "        for metric in metrics:\n",
    "            if metric == \"accuracy\":\n",
    "                print ('CV acc for %s is %f' \n",
    "                       %accuracy_score(y_predict, y_test))\n",
    "                    "
   ]
  },
  {
   "cell_type": "code",
   "execution_count": null,
   "metadata": {},
   "outputs": [],
   "source": [
    "def sample_method(method):\n",
    "    if method = \"cross_validation\":\n",
    "        "
   ]
  },
  {
   "cell_type": "code",
   "execution_count": 34,
   "metadata": {},
   "outputs": [],
   "source": [
    "def graphing_decisiontree(input_data, criterion='entropy'):\n",
    "    \n",
    "    x_train, x_test, y_train, y_test = preprocessing(input_data)\n",
    "    \n",
    "    ### Max Depth ------------------------------------------------------------------------------------\n",
    "    max_depths = np.linspace(1, 32, 32, endpoint=True)\n",
    "    train_results = []\n",
    "    test_results = []\n",
    "    for max_depth in max_depths:\n",
    "        dt = DecisionTreeClassifier(class_weight=None, criterion=criterion, max_depth=max_depth,\n",
    "                                         max_features=None, max_leaf_nodes=None, min_samples_leaf=1,\n",
    "                                         min_samples_split=2, min_weight_fraction_leaf=0.0,\n",
    "                                         presort=False, random_state=100, splitter='best')\n",
    "        scores = tenfold(dt, x_train, y_train)\n",
    "        accuracy_train = scores['train_score'].mean()\n",
    "        # Add acc score to previous train results\n",
    "        train_results.append(accuracy_train)\n",
    "        accuracy_test = scores['test_score'].mean()\n",
    "        # Add acc score to previous test results\n",
    "        test_results.append(accuracy_test)\n",
    "\n",
    "    line1, = plt.plot(max_depths, train_results,'b', label=\"Average CV Train Accuracy\")\n",
    "    line2, = plt.plot(max_depths, test_results, 'r', label=\"Average CV Test Accuracy\")\n",
    "    plt.legend(handler_map={line2: HandlerLine2D(numpoints=2)})\n",
    "    plt.ylabel(\"Average Accuracy score\")\n",
    "    plt.xlabel(\"Tree depth\")\n",
    "    plt.show()\n",
    "\n",
    "    # Finding the best score and parameter to use\n",
    "    best_accuracy_score = max(test_results)\n",
    "    best_max_depth = max_depths[test_results.index(best_accuracy_score)]\n",
    "    print ('Best Max Depth Value:', best_max_depth)\n",
    "    print ('Corresponding Accuracy Value:', best_accuracy_score)\n",
    "    \n",
    "    ### Min Sample Splits ------------------------------------------------------------------------------------\n",
    "    min_samples_splits = np.linspace(2, 100, 99, endpoint=True)\n",
    "    train_results = []\n",
    "    test_results = []\n",
    "    for min_samples_split in min_samples_splits:\n",
    "        dt = DecisionTreeClassifier(class_weight=None, criterion=criterion, max_depth=None,\n",
    "                                         max_features=None, max_leaf_nodes=None, min_samples_leaf=1,\n",
    "                                         min_samples_split=int(min_samples_split), min_weight_fraction_leaf=0.0,\n",
    "                                         presort=False, random_state=100, splitter='best')\n",
    "        scores = tenfold(dt, x_train, y_train)\n",
    "        accuracy_train = scores['train_score'].mean()\n",
    "        # Add acc score to previous train results\n",
    "        train_results.append(accuracy_train)\n",
    "        accuracy_test = scores['test_score'].mean()\n",
    "        # Add acc score to previous test results\n",
    "        test_results.append(accuracy_test)\n",
    "\n",
    "    line1, = plt.plot(min_samples_splits, train_results,'b', label=\"Average CV Train Accuracy\")\n",
    "    line2, = plt.plot(min_samples_splits, test_results, 'r', label=\"Average CV Test Accuracy\")\n",
    "    plt.legend(handler_map={line2: HandlerLine2D(numpoints=2)})\n",
    "    plt.ylabel(\"Average Accuracy score\")\n",
    "    plt.xlabel(\"min samples split\")\n",
    "    plt.show()\n",
    "\n",
    "    # Finding the best score and parameter to use\n",
    "    best_accuracy_score = max(test_results)\n",
    "    best_min_samples_split = min_samples_splits[test_results.index(best_accuracy_score)]\n",
    "    print ('Best Min Sample Split Value:', best_min_samples_split)\n",
    "    print ('Corresponding Accuracy Value:', best_accuracy_score)\n",
    "    \n",
    "    ### Min Samples Leaf ------------------------------------------------------------------------------------\n",
    "    min_samples_leafs = np.linspace(1, 80, 80, endpoint=True)\n",
    "    train_results = []\n",
    "    test_results = []\n",
    "    for min_samples_leaf in min_samples_leafs:\n",
    "        dt = DecisionTreeClassifier(class_weight=None, criterion=criterion, max_depth=None,\n",
    "                                         max_features=None, max_leaf_nodes=None, min_samples_leaf=int(min_samples_leaf),\n",
    "                                         min_samples_split=2, min_weight_fraction_leaf=0.0,\n",
    "                                         presort=False, random_state=100, splitter='best')\n",
    "        scores = tenfold(dt, x_train, y_train)\n",
    "        accuracy_train = scores['train_score'].mean()\n",
    "        # Add acc score to previous train results\n",
    "        train_results.append(accuracy_train)\n",
    "        accuracy_test = scores['test_score'].mean()\n",
    "        # Add acc score to previous test results\n",
    "        test_results.append(accuracy_test)\n",
    "\n",
    "    line1, = plt.plot(min_samples_leafs, train_results,'b', label=\"Average CV Train Accuracy\")\n",
    "    line2, = plt.plot(min_samples_leafs, test_results, 'r', label=\"Average CV Test Accuracy\")\n",
    "    plt.legend(handler_map={line2: HandlerLine2D(numpoints=2)})\n",
    "    plt.ylabel(\"Average Accuracy score\")\n",
    "    plt.xlabel(\"min samples leaf\")\n",
    "    plt.show()\n",
    "\n",
    "    # Finding the best score and parameter to use\n",
    "    best_accuracy_score = max(test_results)\n",
    "    best_min_samples_leaf = min_samples_leafs[test_results.index(best_accuracy_score)]\n",
    "    print ('Best Min Samples Leaf Value:', best_min_samples_leaf)\n",
    "    print ('Corresponding Accuracy Value:', best_accuracy_score)\n",
    "    \n",
    "    ### Max Features ------------------------------------------------------------------------------------\n",
    "    max_features = list(range(1,input_data.shape[1]))\n",
    "    train_results = []\n",
    "    test_results = []\n",
    "    for max_feature in max_features:\n",
    "        dt = DecisionTreeClassifier(class_weight=None, criterion=criterion, max_depth=None,\n",
    "                                         max_features=max_feature, max_leaf_nodes=None, min_samples_leaf=1,\n",
    "                                         min_samples_split=2, min_weight_fraction_leaf=0.0,\n",
    "                                         presort=False, random_state=100, splitter='best')\n",
    "        scores = tenfold(dt, x_train, y_train)\n",
    "        accuracy_train = scores['train_score'].mean()\n",
    "        # Add acc score to previous train results\n",
    "        train_results.append(accuracy_train)\n",
    "        accuracy_test = scores['test_score'].mean()\n",
    "        # Add acc score to previous test results\n",
    "        test_results.append(accuracy_test)\n",
    "\n",
    "    line1, = plt.plot(max_features, train_results,'b', label=\"Average CV Train Accuracy\")\n",
    "    line2, = plt.plot(max_features, test_results, 'r', label=\"Average CV Test Accuracy\")\n",
    "    plt.legend(handler_map={line2: HandlerLine2D(numpoints=2)})\n",
    "    plt.ylabel(\"Average Accuracy score\")\n",
    "    plt.xlabel(\"max_features\")\n",
    "    plt.show()\n",
    "\n",
    "    # Finding the best score and parameter to use\n",
    "    best_accuracy_score = max(test_results)\n",
    "    best_max_feature = max_features[test_results.index(best_accuracy_score)]\n",
    "    print ('Best Max Feature Value:', best_max_feature)\n",
    "    print ('Corresponding Accuracy Value:', best_accuracy_score)"
   ]
  },
  {
   "cell_type": "code",
   "execution_count": 35,
   "metadata": {},
   "outputs": [
    {
     "data": {
      "image/png": "[encoded data removed]",
      "text/plain": [
       "<matplotlib.figure.Figure at 0x12dc698ef28>"
      ]
     },
     "metadata": {},
     "output_type": "display_data"
    },
    {
     "name": "stdout",
     "output_type": "stream",
     "text": [
      "Best Max Depth Value: 3.0\n",
      "Corresponding Accuracy Value: 0.665317929704\n"
     ]
    },
    {
     "data": {
      "image/png": "[encoded data removed]",
      "text/plain": [
       "<matplotlib.figure.Figure at 0x12dc42ea6d8>"
      ]
     },
     "metadata": {},
     "output_type": "display_data"
    },
    {
     "name": "stdout",
     "output_type": "stream",
     "text": [
      "Best Min Sample Split Value: 100.0\n",
      "Corresponding Accuracy Value: 0.653248253205\n"
     ]
    },
    {
     "data": {
      "image/png": "[encoded data removed]",
      "text/plain": [
       "<matplotlib.figure.Figure at 0x12dc80c9630>"
      ]
     },
     "metadata": {},
     "output_type": "display_data"
    },
    {
     "name": "stdout",
     "output_type": "stream",
     "text": [
      "Best Min Samples Leaf Value: 79.0\n",
      "Corresponding Accuracy Value: 0.663073864775\n"
     ]
    },
    {
     "ename": "NameError",
     "evalue": "name 'final_input_data_fs' is not defined",
     "output_type": "error",
     "traceback": [
      "\u001b[1;31m---------------------------------------------------------------------------\u001b[0m",
      "\u001b[1;31mNameError\u001b[0m                                 Traceback (most recent call last)",
      "\u001b[1;32m<ipython-input-35-618915fd2a51>\u001b[0m in \u001b[0;36m<module>\u001b[1;34m()\u001b[0m\n\u001b[1;32m----> 1\u001b[1;33m \u001b[0mgraphing_decisiontree\u001b[0m\u001b[1;33m(\u001b[0m\u001b[0minput_all\u001b[0m\u001b[1;33m[\u001b[0m\u001b[1;34m'normal_before_fs'\u001b[0m\u001b[1;33m]\u001b[0m\u001b[1;33m)\u001b[0m\u001b[1;33m\u001b[0m\u001b[0m\n\u001b[0m",
      "\u001b[1;32m<ipython-input-34-9afc55603cf7>\u001b[0m in \u001b[0;36mgraphing_decisiontree\u001b[1;34m(input_data, criterion)\u001b[0m\n\u001b[0;32m     94\u001b[0m \u001b[1;33m\u001b[0m\u001b[0m\n\u001b[0;32m     95\u001b[0m     \u001b[1;31m### Max Features ------------------------------------------------------------------------------------\u001b[0m\u001b[1;33m\u001b[0m\u001b[1;33m\u001b[0m\u001b[0m\n\u001b[1;32m---> 96\u001b[1;33m     \u001b[0mmax_features\u001b[0m \u001b[1;33m=\u001b[0m \u001b[0mlist\u001b[0m\u001b[1;33m(\u001b[0m\u001b[0mrange\u001b[0m\u001b[1;33m(\u001b[0m\u001b[1;36m1\u001b[0m\u001b[1;33m,\u001b[0m\u001b[0mfinal_input_data_fs\u001b[0m\u001b[1;33m.\u001b[0m\u001b[0mshape\u001b[0m\u001b[1;33m[\u001b[0m\u001b[1;36m1\u001b[0m\u001b[1;33m]\u001b[0m\u001b[1;33m)\u001b[0m\u001b[1;33m)\u001b[0m\u001b[1;33m\u001b[0m\u001b[0m\n\u001b[0m\u001b[0;32m     97\u001b[0m     \u001b[0mtrain_results\u001b[0m \u001b[1;33m=\u001b[0m \u001b[1;33m[\u001b[0m\u001b[1;33m]\u001b[0m\u001b[1;33m\u001b[0m\u001b[0m\n\u001b[0;32m     98\u001b[0m     \u001b[0mtest_results\u001b[0m \u001b[1;33m=\u001b[0m \u001b[1;33m[\u001b[0m\u001b[1;33m]\u001b[0m\u001b[1;33m\u001b[0m\u001b[0m\n",
      "\u001b[1;31mNameError\u001b[0m: name 'final_input_data_fs' is not defined"
     ]
    }
   ],
   "source": [
    "graphing_decisiontree(input_all['normal_before_fs'])"
   ]
  },
  {
   "cell_type": "markdown",
   "metadata": {},
   "source": [
    "## Decision Tree Modelling"
   ]
  },
  {
   "cell_type": "markdown",
   "metadata": {},
   "source": [
    "### Baseline Decision Trees"
   ]
  },
  {
   "cell_type": "code",
   "execution_count": 22,
   "metadata": {},
   "outputs": [],
   "source": [
    "# Gini\n",
    "clf_gini = DecisionTreeClassifier(class_weight=None, criterion='gini', max_depth=None,\n",
    "                                     max_features=None, max_leaf_nodes=None, min_samples_leaf=1,\n",
    "                                     min_samples_split=2, min_weight_fraction_leaf=0.0,\n",
    "                                     presort=False, random_state=100, splitter='best')\n",
    "#Entropy\n",
    "clf_entropy = DecisionTreeClassifier(class_weight=None, criterion='entropy', max_depth=None,\n",
    "                                     max_features=None, max_leaf_nodes=None, min_samples_leaf=1,\n",
    "                                     min_samples_split=2, min_weight_fraction_leaf=0.0,\n",
    "                                     presort=False, random_state=100, splitter='best')"
   ]
  },
  {
   "cell_type": "markdown",
   "metadata": {},
   "source": [
    "### Performance Metric For Dataset before Feature Selection\n",
    "1. Accuracy Score\n",
    "2. F1 Score\n",
    "3. Confusion Matrix"
   ]
  },
  {
   "cell_type": "code",
   "execution_count": null,
   "metadata": {},
   "outputs": [],
   "source": [
    "# Predicting using Dataset before Feature Selection\n",
    "Y_predict_entropy_initial = clf_entropy.predict(x_test)\n",
    "Y_predict_gini_initial = clf_gini.predict(X_test)"
   ]
  },
  {
   "cell_type": "code",
   "execution_count": null,
   "metadata": {},
   "outputs": [],
   "source": [
    "# Assess predict score based on Accuracy Score for Dataset before Feature Selection\n",
    "\n",
    "print ('Testing acc for entropy before feature selection is %f' %accuracy_score(Y_predict_entropy_initial, Y_test))\n",
    "print ('Testing acc for gini before feature selection is %f' %accuracy_score(Y_predict_gini_initial, Y_test))"
   ]
  },
  {
   "cell_type": "code",
   "execution_count": null,
   "metadata": {},
   "outputs": [],
   "source": [
    "# Assess predict score based on F1 Score for Dataset after Feature Selection\n",
    "\n",
    "print ('Testing f1 score for entropy before feature selection is %f' %f1_score(Y_test, Y_predict_entropy_initial, labels=[1,2,3,4], average='weighted'))\n",
    "print ('Testing f1 score for gini before feature selection is %f' %f1_score(Y_test, Y_predict_gini_initial, labels=[1,2,3,4], average='weighted'))"
   ]
  },
  {
   "cell_type": "code",
   "execution_count": null,
   "metadata": {},
   "outputs": [],
   "source": [
    "# Assess predict score based on Confusion Matrix for Dataset after Feature Selection\n",
    "\n",
    "print ('Testing confusion matrix for entropy before feature selection is \\n', confusion_matrix(Y_test, Y_predict_entropy_initial, labels=[1,2,3,4]))\n",
    "print ('Testing confusion matrix for gini before feature selection is \\n', confusion_matrix(Y_test, Y_predict_gini_initial, labels=[1,2,3,4]))"
   ]
  },
  {
   "cell_type": "code",
   "execution_count": null,
   "metadata": {},
   "outputs": [],
   "source": [
    "metrics = ['accuracy', 'f1_score', 'confusion_matrix']\n",
    "\n",
    "for input_data in input_all:\n",
    "    x_train, x_test, y_train, y_test = preprocessing(input_data)\n",
    "    \n",
    "    for metric in metrics:\n",
    "        if metric == \"accuracy\":\n",
    "            print ('Testing acc for entropy before feature selection is %f' %accuracy_score(Y_predict_entropy_initial, Y_test))"
   ]
  },
  {
   "cell_type": "markdown",
   "metadata": {},
   "source": [
    "### Performance Metric For Dataset after Feature Selection\n",
    "1. Accuracy Score\n",
    "2. F1 Score\n",
    "3. Confusion Matrix"
   ]
  },
  {
   "cell_type": "code",
   "execution_count": null,
   "metadata": {},
   "outputs": [],
   "source": [
    "# Predicting using Dataset after Feature Selection\n",
    "Y_predict_entropy_initial_fs = clf_entropy_fs.predict(X_test_fs)\n",
    "Y_predict_gini_initial_fs = clf_gini_fs.predict(X_test_fs)"
   ]
  },
  {
   "cell_type": "code",
   "execution_count": null,
   "metadata": {},
   "outputs": [],
   "source": [
    "# Assess predict score based on Accuracy Score for Dataset after Feature Selection\n",
    "\n",
    "# print ('Testing acc for entropy after feature selection is %f' %accuracy_score(Y_test_fs, Y_predict_entropy_initial_fs))\n",
    "# print ('Testing acc for gini after feature selection is %f' %accuracy_score(Y_predict_gini_initial_fs, Y_test_fs))"
   ]
  },
  {
   "cell_type": "code",
   "execution_count": null,
   "metadata": {},
   "outputs": [],
   "source": [
    "cv_entropy_results = tenfold(clf_entropy_fs, X, Y)\n",
    "print ('Testing acc for entropy after feature selection is %f. Std dv is (+/-) %f.' %(cv_entropy_results['test_score'].mean(), cv_entropy_results['test_score'].std()*2))\n",
    "\n",
    "cv_gini_results = tenfold(clf_gini_fs, X, Y)\n",
    "print ('Testing acc for gini after feature selection is %f. Std dv is (+/-) %f.' %(cv_gini_results['test_score'].mean(), cv_gini_results['test_score'].std()*2))"
   ]
  },
  {
   "cell_type": "code",
   "execution_count": null,
   "metadata": {},
   "outputs": [],
   "source": [
    "# Assess predict score based on F1 Score for Dataset after Feature Selection\n",
    "\n",
    "print ('Testing f1 score for entropy after feature selection is %f' %f1_score(Y_test_fs, Y_predict_entropy_initial_fs, labels=[1,2,3,4], average='weighted'))\n",
    "print ('Testing f1 score for gini after feature selection is %f' %f1_score(Y_test_fs, Y_predict_gini_initial_fs, labels=[1,2,3,4], average='weighted'))"
   ]
  },
  {
   "cell_type": "code",
   "execution_count": null,
   "metadata": {},
   "outputs": [],
   "source": [
    "# Assess predict score based on Confusion Matrix for Dataset after Feature Selection\n",
    "\n",
    "print ('Testing confusion matrix for entropy after feature selection is \\n', confusion_matrix(Y_test_fs, Y_predict_entropy_initial_fs, labels=[1,2,3,4]))\n",
    "print ('Testing confusion matrix for gini after feature selection is \\n', confusion_matrix(Y_test_fs, Y_predict_gini_initial_fs, labels=[1,2,3,4]))"
   ]
  },
  {
   "cell_type": "markdown",
   "metadata": {},
   "source": [
    "### Initial Classification Results"
   ]
  },
  {
   "cell_type": "code",
   "execution_count": null,
   "metadata": {},
   "outputs": [],
   "source": [
    "# look at classification report for the initial modelling.\n",
    "print (\"Classification report for Gini: \\n\", classification_report(Y_test, Y_predict_gini_initial))\n",
    "print (\"Classification report for Entropy: \\n\", classification_report(Y_test, Y_predict_entropy_initial))"
   ]
  },
  {
   "cell_type": "markdown",
   "metadata": {},
   "source": [
    "## Graphing Parameters\n",
    "\n",
    "We are going to plot each parameters on a graph, based on accuracy score as the performance metric. "
   ]
  },
  {
   "cell_type": "code",
   "execution_count": null,
   "metadata": {},
   "outputs": [],
   "source": [
    "input_data = input_all['normal_before_fs']"
   ]
  },
  {
   "cell_type": "code",
   "execution_count": null,
   "metadata": {},
   "outputs": [],
   "source": [
    "graphing_decisiontree(input_data, criterion='gini')"
   ]
  },
  {
   "cell_type": "code",
   "execution_count": null,
   "metadata": {},
   "outputs": [],
   "source": [
    "graphing_decisiontree(input_data, criterion='entropy')"
   ]
  },
  {
   "cell_type": "markdown",
   "metadata": {},
   "source": [
    "## Graphing Parameters (Combining Parameters)\n",
    "\n",
    "We are going to plot each parameters on a graph, based on accuracy score as the performance metric. Optimize one feature after another."
   ]
  },
  {
   "cell_type": "code",
   "execution_count": null,
   "metadata": {},
   "outputs": [],
   "source": [
    "# Write function for this instead"
   ]
  },
  {
   "cell_type": "markdown",
   "metadata": {
    "collapsed": true
   },
   "source": [
    "# Final Tuning of Parameters\n",
    "Lets try combining them together first"
   ]
  },
  {
   "cell_type": "code",
   "execution_count": null,
   "metadata": {},
   "outputs": [],
   "source": [
    "clf_entropy_final = DecisionTreeClassifier(class_weight=None, criterion='entropy', max_depth=3.0,\n",
    "                                     max_features=30, max_leaf_nodes=None,\n",
    "                                     min_impurity_split=1e-07, min_samples_leaf=1,\n",
    "                                     min_samples_split=2, min_weight_fraction_leaf=0.0,\n",
    "                                     presort=False, random_state=100, splitter='best')\n",
    "clf_entropy_final.fit(X_train_fs, Y_train_fs)"
   ]
  },
  {
   "cell_type": "code",
   "execution_count": null,
   "metadata": {},
   "outputs": [],
   "source": [
    "# predict( ) will do the model prediction, predict y based on the input x\n",
    "Y_predict_entropy_final = clf_entropy_final.predict(X_test)\n",
    "print ('testing acc for entropy is %f' %accuracy_score(Y_predict_entropy_final, Y_test))"
   ]
  },
  {
   "cell_type": "markdown",
   "metadata": {},
   "source": [
    "Lets try the other model."
   ]
  },
  {
   "cell_type": "code",
   "execution_count": null,
   "metadata": {},
   "outputs": [],
   "source": [
    "clf_gini_final = DecisionTreeClassifier(class_weight=None, criterion='gini', max_depth=None,\n",
    "                                     max_features=None, max_leaf_nodes=None,\n",
    "                                     min_impurity_split=1e-07, min_samples_leaf=50,\n",
    "                                     min_samples_split=2, min_weight_fraction_leaf=0.0,\n",
    "                                     presort=False, random_state=100, splitter='best')\n",
    "clf_gini_final.fit(X_train, Y_train)"
   ]
  },
  {
   "cell_type": "code",
   "execution_count": null,
   "metadata": {},
   "outputs": [],
   "source": [
    "# predict( ) will do the model prediction, predict y based on the input x\n",
    "Y_predict_gini_final = clf_gini_final.predict(X_test)\n",
    "print ('testing acc for gini is %f' %accuracy_score(Y_predict_gini_final, Y_test_fs))"
   ]
  },
  {
   "cell_type": "code",
   "execution_count": null,
   "metadata": {
    "scrolled": true
   },
   "outputs": [],
   "source": [
    "# look at classification report for the above tuning.\n",
    "print (\"Classification report for Gini: \\n\", classification_report(Y_test_fs, Y_predict_gini_final))"
   ]
  },
  {
   "cell_type": "code",
   "execution_count": null,
   "metadata": {},
   "outputs": [],
   "source": [
    "# Assess predict score based on Confusion Matrix for Dataset after Feature Selection\n",
    "\n",
    "print ('Testing confusion matrix for gini after feature selection is \\n', confusion_matrix(Y_test_fs, Y_predict_gini_final, labels=[1,2,3,4]))"
   ]
  },
  {
   "cell_type": "code",
   "execution_count": null,
   "metadata": {},
   "outputs": [],
   "source": [
    "# look at classification report for the above tuning.\n",
    "print (\"Classification report for Entropy: \\n\", classification_report(Y_test_fs, Y_predict_entropy_final))"
   ]
  },
  {
   "cell_type": "code",
   "execution_count": null,
   "metadata": {},
   "outputs": [],
   "source": [
    "# Assess predict score based on Confusion Matrix for Dataset after Feature Selection\n",
    "\n",
    "print ('Testing confusion matrix for entropy after feature selection is \\n', confusion_matrix(Y_test_fs, Y_predict_entropy_final, labels=[1,2,3,4]))"
   ]
  },
  {
   "cell_type": "code",
   "execution_count": null,
   "metadata": {},
   "outputs": [],
   "source": [
    "from sklearn.externals.six import StringIO  \n",
    "from IPython.display import Image  \n",
    "from sklearn.tree import export_graphviz\n",
    "import pydotplus"
   ]
  },
  {
   "cell_type": "code",
   "execution_count": null,
   "metadata": {},
   "outputs": [],
   "source": [
    "dot_data = StringIO()\n",
    "export_graphviz(clf_gini_final, out_file=dot_data,  \n",
    "                filled=True, rounded=True,\n",
    "                special_characters=True)\n",
    "graph = pydotplus.graph_from_dot_data(dot_data.getvalue())  \n",
    "Image(graph.create_png())"
   ]
  },
  {
   "cell_type": "code",
   "execution_count": null,
   "metadata": {},
   "outputs": [],
   "source": [
    "dot_data = StringIO()\n",
    "export_graphviz(clf_entropy_final, out_file=dot_data,  \n",
    "                filled=True, rounded=True,\n",
    "                special_characters=True)\n",
    "graph = pydotplus.graph_from_dot_data(dot_data.getvalue())  \n",
    "Image(graph.create_png())"
   ]
  },
  {
   "cell_type": "code",
   "execution_count": null,
   "metadata": {},
   "outputs": [],
   "source": [
    "from sklearn.model_selection import GridSearchCV\n",
    "\n"
   ]
  },
  {
   "cell_type": "code",
   "execution_count": null,
   "metadata": {},
   "outputs": [],
   "source": []
  }
 ],
 "metadata": {
  "kernelspec": {
   "display_name": "Python 3",
   "language": "python",
   "name": "python3"
  }
 },
 "nbformat": 4,
 "nbformat_minor": 2
}
