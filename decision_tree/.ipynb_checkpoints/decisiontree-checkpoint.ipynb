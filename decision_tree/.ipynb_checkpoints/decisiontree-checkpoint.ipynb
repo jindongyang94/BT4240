{
 "cells": [
  {
   "cell_type": "markdown",
   "metadata": {},
   "source": [
    "# Decision Tree Experimentation\n",
    "First, we import all relevant packages\n",
    "\n",
    "The crossvalidation's train_test_split() help us by splitting data into train & test set. This is easy way out before we do further processing:\n",
    "We should preprocess the data by partioning with the same percentage for training, cross_validation and test set."
   ]
  },
  {
   "cell_type": "code",
   "execution_count": 561,
   "metadata": {},
   "outputs": [],
   "source": [
    "import numpy as np\n",
    "import pandas as pd\n",
    "from sklearn.cross_validation import train_test_split\n",
    "from sklearn.tree import DecisionTreeClassifier\n",
    "from sklearn.metrics import accuracy_score, classification_report, f1_score, confusion_matrix\n",
    "from sklearn import tree\n",
    "from sklearn.model_selection import cross_val_score\n",
    "\n",
    "import matplotlib.pyplot as plt\n",
    "from matplotlib.legend_handler import HandlerLine2D"
   ]
  },
  {
   "cell_type": "markdown",
   "metadata": {},
   "source": [
    "## Loading dataset\n",
    "\n",
    "Load Dataset and examine the initial features"
   ]
  },
  {
   "cell_type": "code",
   "execution_count": 562,
   "metadata": {
    "collapsed": true
   },
   "outputs": [],
   "source": [
    "# Input data before feature selection\n",
    "input_data = pd.read_csv('processed_train.csv', index_col=0)\n",
    "\n",
    "#Input data after feature selection\n",
    "input_data_after_fs = pd.read_csv('processed_train_after_feature.csv', index_col=0)"
   ]
  },
  {
   "cell_type": "code",
   "execution_count": 563,
   "metadata": {},
   "outputs": [
    {
     "name": "stdout",
     "output_type": "stream",
     "text": [
      "Dataset Length::  2973\n",
      "Dataset Shape:  (2973, 217)\n",
      "<class 'pandas.core.frame.DataFrame'>\n",
      "Int64Index: 2973 entries, 0 to 2972\n",
      "Columns: 217 entries, Id to age-range_\n",
      "dtypes: bool(1), float64(13), int64(201), object(2)\n",
      "memory usage: 4.9+ MB\n"
     ]
    },
    {
     "data": {
      "text/html": [
       "<div>\n",
       "<style scoped>\n",
       "    .dataframe tbody tr th:only-of-type {\n",
       "        vertical-align: middle;\n",
       "    }\n",
       "\n",
       "    .dataframe tbody tr th {\n",
       "        vertical-align: top;\n",
       "    }\n",
       "\n",
       "    .dataframe thead th {\n",
       "        text-align: right;\n",
       "    }\n",
       "</style>\n",
       "<table border=\"1\" class=\"dataframe\">\n",
       "  <thead>\n",
       "    <tr style=\"text-align: right;\">\n",
       "      <th></th>\n",
       "      <th>Id</th>\n",
       "      <th>idhogar</th>\n",
       "      <th>Target</th>\n",
       "      <th>hacdor</th>\n",
       "      <th>hacapo</th>\n",
       "      <th>v14a</th>\n",
       "      <th>refrig</th>\n",
       "      <th>paredblolad</th>\n",
       "      <th>paredzocalo</th>\n",
       "      <th>paredpreb</th>\n",
       "      <th>...</th>\n",
       "      <th>escolari-min</th>\n",
       "      <th>escolari-max</th>\n",
       "      <th>escolari-sum</th>\n",
       "      <th>escolari-std</th>\n",
       "      <th>escolari-range_</th>\n",
       "      <th>age-min</th>\n",
       "      <th>age-max</th>\n",
       "      <th>age-sum</th>\n",
       "      <th>age-std</th>\n",
       "      <th>age-range_</th>\n",
       "    </tr>\n",
       "  </thead>\n",
       "  <tbody>\n",
       "    <tr>\n",
       "      <th>0</th>\n",
       "      <td>ID_279628684</td>\n",
       "      <td>21eb7fcc1</td>\n",
       "      <td>4</td>\n",
       "      <td>0</td>\n",
       "      <td>0</td>\n",
       "      <td>1</td>\n",
       "      <td>1</td>\n",
       "      <td>1</td>\n",
       "      <td>0</td>\n",
       "      <td>0</td>\n",
       "      <td>...</td>\n",
       "      <td>10</td>\n",
       "      <td>10</td>\n",
       "      <td>10</td>\n",
       "      <td>0.000000</td>\n",
       "      <td>0</td>\n",
       "      <td>43</td>\n",
       "      <td>43</td>\n",
       "      <td>43</td>\n",
       "      <td>0.000000</td>\n",
       "      <td>0</td>\n",
       "    </tr>\n",
       "    <tr>\n",
       "      <th>1</th>\n",
       "      <td>ID_f29eb3ddd</td>\n",
       "      <td>0e5d7a658</td>\n",
       "      <td>4</td>\n",
       "      <td>0</td>\n",
       "      <td>0</td>\n",
       "      <td>1</td>\n",
       "      <td>1</td>\n",
       "      <td>0</td>\n",
       "      <td>0</td>\n",
       "      <td>0</td>\n",
       "      <td>...</td>\n",
       "      <td>12</td>\n",
       "      <td>12</td>\n",
       "      <td>12</td>\n",
       "      <td>0.000000</td>\n",
       "      <td>0</td>\n",
       "      <td>67</td>\n",
       "      <td>67</td>\n",
       "      <td>67</td>\n",
       "      <td>0.000000</td>\n",
       "      <td>0</td>\n",
       "    </tr>\n",
       "    <tr>\n",
       "      <th>2</th>\n",
       "      <td>ID_68de51c94</td>\n",
       "      <td>2c7317ea8</td>\n",
       "      <td>4</td>\n",
       "      <td>0</td>\n",
       "      <td>0</td>\n",
       "      <td>1</td>\n",
       "      <td>1</td>\n",
       "      <td>0</td>\n",
       "      <td>0</td>\n",
       "      <td>0</td>\n",
       "      <td>...</td>\n",
       "      <td>11</td>\n",
       "      <td>11</td>\n",
       "      <td>11</td>\n",
       "      <td>0.000000</td>\n",
       "      <td>0</td>\n",
       "      <td>92</td>\n",
       "      <td>92</td>\n",
       "      <td>92</td>\n",
       "      <td>0.000000</td>\n",
       "      <td>0</td>\n",
       "    </tr>\n",
       "    <tr>\n",
       "      <th>3</th>\n",
       "      <td>ID_ec05b1a7b</td>\n",
       "      <td>2b58d945f</td>\n",
       "      <td>4</td>\n",
       "      <td>0</td>\n",
       "      <td>0</td>\n",
       "      <td>1</td>\n",
       "      <td>1</td>\n",
       "      <td>1</td>\n",
       "      <td>0</td>\n",
       "      <td>0</td>\n",
       "      <td>...</td>\n",
       "      <td>2</td>\n",
       "      <td>11</td>\n",
       "      <td>33</td>\n",
       "      <td>4.272002</td>\n",
       "      <td>9</td>\n",
       "      <td>8</td>\n",
       "      <td>38</td>\n",
       "      <td>100</td>\n",
       "      <td>14.899664</td>\n",
       "      <td>30</td>\n",
       "    </tr>\n",
       "    <tr>\n",
       "      <th>4</th>\n",
       "      <td>ID_1284f8aad</td>\n",
       "      <td>d6dae86b7</td>\n",
       "      <td>4</td>\n",
       "      <td>1</td>\n",
       "      <td>0</td>\n",
       "      <td>1</td>\n",
       "      <td>1</td>\n",
       "      <td>1</td>\n",
       "      <td>0</td>\n",
       "      <td>0</td>\n",
       "      <td>...</td>\n",
       "      <td>0</td>\n",
       "      <td>11</td>\n",
       "      <td>23</td>\n",
       "      <td>5.123475</td>\n",
       "      <td>11</td>\n",
       "      <td>7</td>\n",
       "      <td>30</td>\n",
       "      <td>76</td>\n",
       "      <td>11.690452</td>\n",
       "      <td>23</td>\n",
       "    </tr>\n",
       "  </tbody>\n",
       "</table>\n",
       "<p>5 rows × 217 columns</p>\n",
       "</div>"
      ],
      "text/plain": [
       "             Id    idhogar  Target  hacdor  hacapo  v14a  refrig  paredblolad  \\\n",
       "0  ID_279628684  21eb7fcc1       4       0       0     1       1            1   \n",
       "1  ID_f29eb3ddd  0e5d7a658       4       0       0     1       1            0   \n",
       "2  ID_68de51c94  2c7317ea8       4       0       0     1       1            0   \n",
       "3  ID_ec05b1a7b  2b58d945f       4       0       0     1       1            1   \n",
       "4  ID_1284f8aad  d6dae86b7       4       1       0     1       1            1   \n",
       "\n",
       "   paredzocalo  paredpreb     ...      escolari-min  escolari-max  \\\n",
       "0            0          0     ...                10            10   \n",
       "1            0          0     ...                12            12   \n",
       "2            0          0     ...                11            11   \n",
       "3            0          0     ...                 2            11   \n",
       "4            0          0     ...                 0            11   \n",
       "\n",
       "   escolari-sum  escolari-std  escolari-range_  age-min  age-max  age-sum  \\\n",
       "0            10      0.000000                0       43       43       43   \n",
       "1            12      0.000000                0       67       67       67   \n",
       "2            11      0.000000                0       92       92       92   \n",
       "3            33      4.272002                9        8       38      100   \n",
       "4            23      5.123475               11        7       30       76   \n",
       "\n",
       "     age-std  age-range_  \n",
       "0   0.000000           0  \n",
       "1   0.000000           0  \n",
       "2   0.000000           0  \n",
       "3  14.899664          30  \n",
       "4  11.690452          23  \n",
       "\n",
       "[5 rows x 217 columns]"
      ]
     },
     "execution_count": 563,
     "metadata": {},
     "output_type": "execute_result"
    }
   ],
   "source": [
    "print (\"Dataset Length:: \", len(input_data))\n",
    "print (\"Dataset Shape: \", input_data.shape)\n",
    "input_data.info()\n",
    "input_data.head(5)"
   ]
  },
  {
   "cell_type": "markdown",
   "metadata": {},
   "source": [
    "As we are not doing any feature selection yet, we are gonna leave this section blank. "
   ]
  },
  {
   "cell_type": "code",
   "execution_count": 564,
   "metadata": {
    "collapsed": true
   },
   "outputs": [],
   "source": [
    "#Split data into variables types - boolean, categorical, continuous, ID\n",
    "bool_var = list(input_data.select_dtypes(['bool']))\n",
    "cont_var = list(input_data.select_dtypes(['float64']))\n",
    "cat_var = list(input_data.select_dtypes(['int64']))\n",
    "id_var = list(input_data.select_dtypes(['object']))\n",
    "\n",
    "#Get dataset with only categorical variables\n",
    "cat_data = input_data[cat_var + bool_var]\n",
    "\n",
    "#Get Continuous Variables from Data\n",
    "cont_data = input_data[cont_var]\n",
    "\n",
    "#Input Data can be from all except id details\n",
    "final_input_data = input_data[cat_var + cont_var]"
   ]
  },
  {
   "cell_type": "code",
   "execution_count": 565,
   "metadata": {},
   "outputs": [
    {
     "data": {
      "text/plain": [
       "0    4\n",
       "1    4\n",
       "2    4\n",
       "3    4\n",
       "4    4\n",
       "Name: Target, dtype: int64"
      ]
     },
     "execution_count": 565,
     "metadata": {},
     "output_type": "execute_result"
    }
   ],
   "source": [
    "final_input_data['Target'].head(5)"
   ]
  },
  {
   "cell_type": "markdown",
   "metadata": {},
   "source": [
    "Creating X and Y variables. \n",
    "As shown above, target feature is at index 3 and the rest of the variables are the predictor variables. "
   ]
  },
  {
   "cell_type": "code",
   "execution_count": 566,
   "metadata": {
    "collapsed": true
   },
   "outputs": [],
   "source": [
    "X = final_input_data.loc[:, final_input_data.columns != 'Target'].values\n",
    "Y = final_input_data['Target'].values\n",
    "Y=Y.astype('int')"
   ]
  },
  {
   "cell_type": "code",
   "execution_count": 567,
   "metadata": {
    "collapsed": true
   },
   "outputs": [],
   "source": [
    "X_train, X_test, Y_train, Y_test = train_test_split(X, Y, test_size = 0.25, \n",
    "                                                    random_state = 100 , stratify = Y)"
   ]
  },
  {
   "cell_type": "markdown",
   "metadata": {},
   "source": [
    "## Using Dataset after Feature Selection"
   ]
  },
  {
   "cell_type": "code",
   "execution_count": 568,
   "metadata": {
    "collapsed": true
   },
   "outputs": [],
   "source": [
    "bool_var = list(input_data_after_fs.select_dtypes(['bool']))\n",
    "cont_var = list(input_data_after_fs.select_dtypes(['float64']))\n",
    "cat_var = list(input_data_after_fs.select_dtypes(['int64']))\n",
    "id_var = list(input_data_after_fs.select_dtypes(['object']))\n",
    "\n",
    "#Get dataset with only categorical variables\n",
    "cat_data_fs = input_data_after_fs[cat_var + bool_var]\n",
    "\n",
    "#Get Continuous Variables from Data\n",
    "cont_data_fs = input_data_after_fs[cont_var]\n",
    "\n",
    "#Input Data can be from all except id details\n",
    "final_input_data_fs = input_data_after_fs[cat_var + cont_var]"
   ]
  },
  {
   "cell_type": "code",
   "execution_count": 569,
   "metadata": {},
   "outputs": [],
   "source": [
    "X_fs = final_input_data_fs.loc[:, final_input_data_fs.columns != 'Target'].values\n",
    "Y_fs = final_input_data_fs['Target'].values\n",
    "Y_fs=Y_fs.astype('int')"
   ]
  },
  {
   "cell_type": "code",
   "execution_count": 570,
   "metadata": {
    "collapsed": true
   },
   "outputs": [],
   "source": [
    "X_train_fs, X_test_fs, Y_train_fs, Y_test_fs = train_test_split(X_fs, Y_fs, test_size = 0.25, \n",
    "                                                    random_state = 100 , stratify = Y_fs)"
   ]
  },
  {
   "cell_type": "markdown",
   "metadata": {},
   "source": [
    "## Decision Tree Modelling"
   ]
  },
  {
   "cell_type": "markdown",
   "metadata": {},
   "source": [
    "### Creating Baseline Decision Tree (Gini Index)\n",
    "\n",
    "1. clf_gini: Cleaned Raw Dataset\n",
    "2. clf_gini_fs: Cleaned Dataset after feature selection"
   ]
  },
  {
   "cell_type": "code",
   "execution_count": 571,
   "metadata": {},
   "outputs": [
    {
     "data": {
      "text/plain": [
       "DecisionTreeClassifier(class_weight=None, criterion='gini', max_depth=None,\n",
       "            max_features=None, max_leaf_nodes=None,\n",
       "            min_impurity_split=1e-07, min_samples_leaf=1,\n",
       "            min_samples_split=2, min_weight_fraction_leaf=0.0,\n",
       "            presort=False, random_state=100, splitter='best')"
      ]
     },
     "execution_count": 571,
     "metadata": {},
     "output_type": "execute_result"
    }
   ],
   "source": [
    "clf_gini = DecisionTreeClassifier(class_weight=None, criterion='gini', max_depth=None,\n",
    "                                     max_features=None, max_leaf_nodes=None,\n",
    "                                     min_impurity_split=1e-07, min_samples_leaf=1,\n",
    "                                     min_samples_split=2, min_weight_fraction_leaf=0.0,\n",
    "                                     presort=False, random_state=100, splitter='best')\n",
    "clf_gini.fit(X_train, Y_train)"
   ]
  },
  {
   "cell_type": "code",
   "execution_count": 572,
   "metadata": {},
   "outputs": [
    {
     "data": {
      "text/plain": [
       "DecisionTreeClassifier(class_weight=None, criterion='gini', max_depth=None,\n",
       "            max_features=None, max_leaf_nodes=None,\n",
       "            min_impurity_split=1e-07, min_samples_leaf=1,\n",
       "            min_samples_split=2, min_weight_fraction_leaf=0.0,\n",
       "            presort=False, random_state=100, splitter='best')"
      ]
     },
     "execution_count": 572,
     "metadata": {},
     "output_type": "execute_result"
    }
   ],
   "source": [
    "# Using dataset after feature selection\n",
    "clf_gini_fs = DecisionTreeClassifier(class_weight=None, criterion='gini', max_depth=None,\n",
    "                                     max_features=None, max_leaf_nodes=None,\n",
    "                                     min_impurity_split=1e-07, min_samples_leaf=1,\n",
    "                                     min_samples_split=2, min_weight_fraction_leaf=0.0,\n",
    "                                     presort=False, random_state=100, splitter='best')\n",
    "clf_gini_fs.fit(X_train_fs, Y_train_fs)"
   ]
  },
  {
   "cell_type": "markdown",
   "metadata": {},
   "source": [
    "### Creating Baseline Decision Tree (Entropy)\n",
    "\n",
    "Using Information Gain is the same as using entropy as criterion\n",
    "1. clf_entropy: Cleaned Raw Dataset\n",
    "2. clf_entropy_fs: Cleaned Dataset after feature selection"
   ]
  },
  {
   "cell_type": "code",
   "execution_count": 573,
   "metadata": {},
   "outputs": [
    {
     "data": {
      "text/plain": [
       "DecisionTreeClassifier(class_weight=None, criterion='entropy', max_depth=None,\n",
       "            max_features=None, max_leaf_nodes=None,\n",
       "            min_impurity_split=1e-07, min_samples_leaf=1,\n",
       "            min_samples_split=2, min_weight_fraction_leaf=0.0,\n",
       "            presort=False, random_state=100, splitter='best')"
      ]
     },
     "execution_count": 573,
     "metadata": {},
     "output_type": "execute_result"
    }
   ],
   "source": [
    "clf_entropy = DecisionTreeClassifier(class_weight=None, criterion='entropy', max_depth=None,\n",
    "                                     max_features=None, max_leaf_nodes=None,\n",
    "                                     min_impurity_split=1e-07, min_samples_leaf=1,\n",
    "                                     min_samples_split=2, min_weight_fraction_leaf=0.0,\n",
    "                                     presort=False, random_state=100, splitter='best')\n",
    "clf_entropy.fit(X_train, Y_train)"
   ]
  },
  {
   "cell_type": "code",
   "execution_count": 574,
   "metadata": {},
   "outputs": [
    {
     "data": {
      "text/plain": [
       "DecisionTreeClassifier(class_weight=None, criterion='entropy', max_depth=None,\n",
       "            max_features=None, max_leaf_nodes=None,\n",
       "            min_impurity_split=1e-07, min_samples_leaf=1,\n",
       "            min_samples_split=2, min_weight_fraction_leaf=0.0,\n",
       "            presort=False, random_state=100, splitter='best')"
      ]
     },
     "execution_count": 574,
     "metadata": {},
     "output_type": "execute_result"
    }
   ],
   "source": [
    "# Using dataset after feature selection\n",
    "clf_entropy_fs = DecisionTreeClassifier(class_weight=None, criterion='entropy', max_depth=None,\n",
    "                                     max_features=None, max_leaf_nodes=None,\n",
    "                                     min_impurity_split=1e-07, min_samples_leaf=1,\n",
    "                                     min_samples_split=2, min_weight_fraction_leaf=0.0,\n",
    "                                     presort=False, random_state=100, splitter='best')\n",
    "clf_entropy_fs.fit(X_train_fs, Y_train_fs)"
   ]
  },
  {
   "cell_type": "markdown",
   "metadata": {},
   "source": [
    "### Performance Metric For Dataset before Feature Selection\n",
    "1. Accuracy Score\n",
    "2. F1 Score\n",
    "3. Confusion Matrix"
   ]
  },
  {
   "cell_type": "code",
   "execution_count": 575,
   "metadata": {
    "collapsed": true
   },
   "outputs": [],
   "source": [
    "# Predicting using Dataset before Feature Selection\n",
    "Y_predict_entropy_initial = clf_entropy.predict(X_test)\n",
    "Y_predict_gini_initial = clf_gini.predict(X_test)"
   ]
  },
  {
   "cell_type": "code",
   "execution_count": 576,
   "metadata": {},
   "outputs": [
    {
     "name": "stdout",
     "output_type": "stream",
     "text": [
      "Testing acc for entropy before feature selection is 0.581989\n",
      "Testing acc for gini before feature selection is 0.576613\n"
     ]
    }
   ],
   "source": [
    "# Assess predict score based on Accuracy Score for Dataset before Feature Selection\n",
    "\n",
    "print ('Testing acc for entropy before feature selection is %f' %accuracy_score(Y_predict_entropy_initial, Y_test))\n",
    "print ('Testing acc for gini before feature selection is %f' %accuracy_score(Y_predict_gini_initial, Y_test))"
   ]
  },
  {
   "cell_type": "code",
   "execution_count": 577,
   "metadata": {},
   "outputs": [
    {
     "name": "stdout",
     "output_type": "stream",
     "text": [
      "Testing f1 score for entropy before feature selection is 0.581394\n",
      "Testing f1 score for gini before feature selection is 0.578491\n"
     ]
    }
   ],
   "source": [
    "# Assess predict score based on F1 Score for Dataset after Feature Selection\n",
    "\n",
    "print ('Testing f1 score for entropy before feature selection is %f' %f1_score(Y_test, Y_predict_entropy_initial, labels=[1,2,3,4], average='weighted'))\n",
    "print ('Testing f1 score for gini before feature selection is %f' %f1_score(Y_test, Y_predict_gini_initial, labels=[1,2,3,4], average='weighted'))"
   ]
  },
  {
   "cell_type": "code",
   "execution_count": 578,
   "metadata": {},
   "outputs": [
    {
     "name": "stdout",
     "output_type": "stream",
     "text": [
      "Testing confusion matrix for entropy before feature selection is \n",
      " [[ 14  15   5  21]\n",
      " [ 18  27  15  51]\n",
      " [  7  22  17  43]\n",
      " [ 22  49  43 375]]\n",
      "Testing confusion matrix for gini before feature selection is \n",
      " [[ 10  10   8  27]\n",
      " [ 14  32  20  45]\n",
      " [  7  24  17  41]\n",
      " [ 21  52  46 370]]\n"
     ]
    }
   ],
   "source": [
    "# Assess predict score based on Confusion Matrix for Dataset after Feature Selection\n",
    "\n",
    "print ('Testing confusion matrix for entropy before feature selection is \\n', confusion_matrix(Y_test, Y_predict_entropy_initial, labels=[1,2,3,4]))\n",
    "print ('Testing confusion matrix for gini before feature selection is \\n', confusion_matrix(Y_test, Y_predict_gini_initial, labels=[1,2,3,4]))"
   ]
  },
  {
   "cell_type": "markdown",
   "metadata": {},
   "source": [
    "### Performance Metric For Dataset after Feature Selection\n",
    "1. Accuracy Score\n",
    "2. F1 Score\n",
    "3. Confusion Matrix"
   ]
  },
  {
   "cell_type": "code",
   "execution_count": 579,
   "metadata": {
    "collapsed": true
   },
   "outputs": [],
   "source": [
    "# Predicting using Dataset after Feature Selection\n",
    "Y_predict_entropy_initial_fs = clf_entropy_fs.predict(X_test_fs)\n",
    "Y_predict_gini_initial_fs = clf_gini_fs.predict(X_test_fs)"
   ]
  },
  {
   "cell_type": "code",
   "execution_count": 580,
   "metadata": {},
   "outputs": [
    {
     "name": "stdout",
     "output_type": "stream",
     "text": [
      "Testing acc for entropy after feature selection is 0.567204\n",
      "Testing acc for gini after feature selection is 0.602151\n"
     ]
    }
   ],
   "source": [
    "# Assess predict score based on Accuracy Score for Dataset after Feature Selection\n",
    "\n",
    "print ('Testing acc for entropy after feature selection is %f' %accuracy_score(Y_test_fs, Y_predict_entropy_initial_fs))\n",
    "print ('Testing acc for gini after feature selection is %f' %accuracy_score(Y_predict_gini_initial_fs, Y_test_fs))"
   ]
  },
  {
   "cell_type": "code",
   "execution_count": 581,
   "metadata": {},
   "outputs": [
    {
     "name": "stdout",
     "output_type": "stream",
     "text": [
      "Testing f1 score for entropy after feature selection is 0.568924\n",
      "Testing f1 score for gini after feature selection is 0.602241\n"
     ]
    }
   ],
   "source": [
    "# Assess predict score based on F1 Score for Dataset after Feature Selection\n",
    "\n",
    "print ('Testing f1 score for entropy after feature selection is %f' %f1_score(Y_test_fs, Y_predict_entropy_initial_fs, labels=[1,2,3,4], average='weighted'))\n",
    "print ('Testing f1 score for gini after feature selection is %f' %f1_score(Y_test_fs, Y_predict_gini_initial_fs, labels=[1,2,3,4], average='weighted'))"
   ]
  },
  {
   "cell_type": "code",
   "execution_count": 582,
   "metadata": {},
   "outputs": [
    {
     "name": "stdout",
     "output_type": "stream",
     "text": [
      "Testing confusion matrix for entropy after feature selection is \n",
      " [[  9  18   6  22]\n",
      " [ 12  29  19  51]\n",
      " [  8  22  16  43]\n",
      " [ 24  46  51 368]]\n",
      "Testing confusion matrix for gini after feature selection is \n",
      " [[ 13  12   6  24]\n",
      " [ 12  31  21  47]\n",
      " [  7  20  24  38]\n",
      " [ 17  43  49 380]]\n"
     ]
    }
   ],
   "source": [
    "# Assess predict score based on Confusion Matrix for Dataset after Feature Selection\n",
    "\n",
    "print ('Testing confusion matrix for entropy after feature selection is \\n', confusion_matrix(Y_test_fs, Y_predict_entropy_initial_fs, labels=[1,2,3,4]))\n",
    "print ('Testing confusion matrix for gini after feature selection is \\n', confusion_matrix(Y_test_fs, Y_predict_gini_initial_fs, labels=[1,2,3,4]))"
   ]
  },
  {
   "cell_type": "markdown",
   "metadata": {},
   "source": [
    "### Initial Classification Results"
   ]
  },
  {
   "cell_type": "code",
   "execution_count": 583,
   "metadata": {},
   "outputs": [
    {
     "name": "stdout",
     "output_type": "stream",
     "text": [
      "Classification report for Gini: \n",
      "              precision    recall  f1-score   support\n",
      "\n",
      "          1       0.19      0.18      0.19        55\n",
      "          2       0.27      0.29      0.28       111\n",
      "          3       0.19      0.19      0.19        89\n",
      "          4       0.77      0.76      0.76       489\n",
      "\n",
      "avg / total       0.58      0.58      0.58       744\n",
      "\n",
      "Classification report for Entropy: \n",
      "              precision    recall  f1-score   support\n",
      "\n",
      "          1       0.23      0.25      0.24        55\n",
      "          2       0.24      0.24      0.24       111\n",
      "          3       0.21      0.19      0.20        89\n",
      "          4       0.77      0.77      0.77       489\n",
      "\n",
      "avg / total       0.58      0.58      0.58       744\n",
      "\n"
     ]
    }
   ],
   "source": [
    "# look at classification report for the initial modelling.\n",
    "print (\"Classification report for Gini: \\n\", classification_report(Y_test, Y_predict_gini_initial))\n",
    "print (\"Classification report for Entropy: \\n\", classification_report(Y_test, Y_predict_entropy_initial))"
   ]
  },
  {
   "cell_type": "markdown",
   "metadata": {},
   "source": [
    "## Other Metrics\n",
    "Lets compute the cross-validation scores"
   ]
  },
  {
   "cell_type": "code",
   "execution_count": 584,
   "metadata": {},
   "outputs": [
    {
     "name": "stdout",
     "output_type": "stream",
     "text": [
      "Accuracy for Gini: 0.50 (+/- 0.24)\n",
      "Accuracy for InfoGain: 0.49 (+/- 0.24)\n"
     ]
    }
   ],
   "source": [
    "scores = cross_val_score(clf_gini, X, Y, cv=5)\n",
    "print(\"Accuracy for Gini: %0.2f (+/- %0.2f)\" % (scores.mean(), scores.std() * 2))\n",
    "\n",
    "scores = cross_val_score(clf_entropy, X, Y, cv=5)\n",
    "print(\"Accuracy for InfoGain: %0.2f (+/- %0.2f)\" % (scores.mean(), scores.std() * 2))"
   ]
  },
  {
   "cell_type": "markdown",
   "metadata": {},
   "source": [
    "This shows that the cross validation stats are terrible. We should fix this."
   ]
  },
  {
   "cell_type": "markdown",
   "metadata": {},
   "source": [
    "## Graphing Parameters (Gini)\n",
    "\n",
    "We are going to plot each parameters on a graph, based on accuracy score as the performance metric. "
   ]
  },
  {
   "cell_type": "code",
   "execution_count": 585,
   "metadata": {
    "collapsed": true
   },
   "outputs": [],
   "source": [
    "# I am doing this here cos I lazy\n",
    "X_test = X_test_fs\n",
    "Y_test = Y_test_fs\n",
    "X_train = X_train_fs\n",
    "Y_train = Y_train_fs"
   ]
  },
  {
   "cell_type": "markdown",
   "metadata": {},
   "source": [
    "### Max Depth"
   ]
  },
  {
   "cell_type": "code",
   "execution_count": 586,
   "metadata": {},
   "outputs": [
    {
     "data": {
      "image/png": "[encoded data removed]",
      "text/plain": [
       "<matplotlib.figure.Figure at 0x1c888e5ccf8>"
      ]
     },
     "metadata": {},
     "output_type": "display_data"
    },
    {
     "name": "stdout",
     "output_type": "stream",
     "text": [
      "Best Max Depth Value: 3.0\n",
      "Corresponding Accuracy Value: 0.6612903225806451\n"
     ]
    }
   ],
   "source": [
    "max_depths = np.linspace(1, 32, 32, endpoint=True)\n",
    "train_results = []\n",
    "test_results = []\n",
    "for max_depth in max_depths:\n",
    "    dt = DecisionTreeClassifier(class_weight=None, criterion='gini', max_depth=max_depth,\n",
    "                                     max_features=None, max_leaf_nodes=None,\n",
    "                                     min_impurity_split=1e-07, min_samples_leaf=1,\n",
    "                                     min_samples_split=2, min_weight_fraction_leaf=0.0,\n",
    "                                     presort=False, random_state=100, splitter='best')\n",
    "    dt.fit(X_train, Y_train)\n",
    "    train_pred = dt.predict(X_train)\n",
    "    accuracy_train = accuracy_score(Y_train, train_pred)\n",
    "    # Add acc score to previous train results\n",
    "    train_results.append(accuracy_train)\n",
    "    y_pred = dt.predict(X_test)\n",
    "    accuracy_test = accuracy_score(Y_test, y_pred)\n",
    "    # Add acc score to previous test results\n",
    "    test_results.append(accuracy_test)\n",
    "\n",
    "line1, = plt.plot(max_depths, train_results,'b', label=\"Train Accuracy\")\n",
    "line2, = plt.plot(max_depths, test_results, 'r', label=\"Test Accuracy\")\n",
    "plt.legend(handler_map={line1: HandlerLine2D(numpoints=2)})\n",
    "plt.ylabel(\"Accuracy score\")\n",
    "plt.xlabel(\"Tree depth\")\n",
    "plt.show()\n",
    "\n",
    "# Finding the best score and parameter to use\n",
    "\n",
    "best_accuracy_score = max(test_results)\n",
    "best_max_depth = max_depths[test_results.index(best_accuracy_score)]\n",
    "print ('Best Max Depth Value:', best_max_depth)\n",
    "print ('Corresponding Accuracy Value:', best_accuracy_score)"
   ]
  },
  {
   "cell_type": "markdown",
   "metadata": {},
   "source": [
    "### Min Sample Split"
   ]
  },
  {
   "cell_type": "code",
   "execution_count": 587,
   "metadata": {},
   "outputs": [
    {
     "data": {
      "image/png": "[encoded data removed]",
      "text/plain": [
       "<matplotlib.figure.Figure at 0x1c88975b128>"
      ]
     },
     "metadata": {},
     "output_type": "display_data"
    },
    {
     "name": "stdout",
     "output_type": "stream",
     "text": [
      "Best Min Sample Split Value: 79.0\n",
      "Corresponding Accuracy Value: 0.6344086021505376\n"
     ]
    }
   ],
   "source": [
    "min_samples_splits = np.linspace(2, 100, 99, endpoint=True)\n",
    "train_results = []\n",
    "test_results = []\n",
    "for min_samples_split in min_samples_splits:\n",
    "    dt = DecisionTreeClassifier(class_weight=None, criterion='gini', max_depth=None,\n",
    "                                     max_features=None, max_leaf_nodes=None,\n",
    "                                     min_impurity_split=1e-07, min_samples_leaf=1,\n",
    "                                     min_samples_split=int(min_samples_split), min_weight_fraction_leaf=0.0,\n",
    "                                     presort=False, random_state=100, splitter='best')\n",
    "    dt.fit(X_train, Y_train)\n",
    "    train_pred = dt.predict(X_train)\n",
    "    accuracy_train = accuracy_score(Y_train, train_pred)\n",
    "    # Add acc score to previous train results\n",
    "    train_results.append(accuracy_train)\n",
    "    y_pred = dt.predict(X_test)\n",
    "    accuracy_test = accuracy_score(Y_test, y_pred)\n",
    "    # Add acc score to previous test results\n",
    "    test_results.append(accuracy_test)\n",
    "\n",
    "line1, = plt.plot(min_samples_splits, train_results,'b', label=\"Train Accuracy\")\n",
    "line2, = plt.plot(min_samples_splits, test_results, 'r', label=\"Test Accuracy\")\n",
    "plt.legend(handler_map={line1: HandlerLine2D(numpoints=2)})\n",
    "plt.ylabel(\"Accuracy score\")\n",
    "plt.xlabel(\"min samples split\")\n",
    "plt.show()\n",
    "\n",
    "# Finding the best score and parameter to use\n",
    "\n",
    "best_accuracy_score = max(test_results)\n",
    "best_min_samples_split = min_samples_splits[test_results.index(best_accuracy_score)]\n",
    "print ('Best Min Sample Split Value:', best_min_samples_split)\n",
    "print ('Corresponding Accuracy Value:', best_accuracy_score)"
   ]
  },
  {
   "cell_type": "markdown",
   "metadata": {},
   "source": [
    "### Min Samples Leaf"
   ]
  },
  {
   "cell_type": "code",
   "execution_count": 588,
   "metadata": {},
   "outputs": [
    {
     "data": {
      "image/png": "[encoded data removed]",
      "text/plain": [
       "<matplotlib.figure.Figure at 0x1c892212e10>"
      ]
     },
     "metadata": {},
     "output_type": "display_data"
    },
    {
     "name": "stdout",
     "output_type": "stream",
     "text": [
      "Best Min Samples Leaf Value: 50.0\n",
      "Corresponding Accuracy Value: 0.6760752688172043\n"
     ]
    }
   ],
   "source": [
    "min_samples_leafs = np.linspace(1, 80, 80, endpoint=True)\n",
    "train_results = []\n",
    "test_results = []\n",
    "for min_samples_leaf in min_samples_leafs:\n",
    "    dt = DecisionTreeClassifier(class_weight=None, criterion='gini', max_depth=None,\n",
    "                                     max_features=None, max_leaf_nodes=None,\n",
    "                                     min_impurity_split=1e-07, min_samples_leaf=int(min_samples_leaf),\n",
    "                                     min_samples_split=2, min_weight_fraction_leaf=0.0,\n",
    "                                     presort=False, random_state=100, splitter='best')\n",
    "    dt.fit(X_train, Y_train)\n",
    "    train_pred = dt.predict(X_train)\n",
    "    accuracy_train = accuracy_score(Y_train, train_pred)\n",
    "    # Add acc score to previous train results\n",
    "    train_results.append(accuracy_train)\n",
    "    y_pred = dt.predict(X_test)\n",
    "    accuracy_test = accuracy_score(Y_test, y_pred)\n",
    "    # Add acc score to previous test results\n",
    "    test_results.append(accuracy_test)\n",
    "\n",
    "line1, = plt.plot(min_samples_leafs, train_results,'b', label=\"Train Accuracy\")\n",
    "line2, = plt.plot(min_samples_leafs, test_results, 'r', label=\"Test Accuracy\")\n",
    "plt.legend(handler_map={line1: HandlerLine2D(numpoints=2)})\n",
    "plt.ylabel(\"Accuracy score\")\n",
    "plt.xlabel(\"min samples leaf\")\n",
    "plt.show()\n",
    "\n",
    "# Finding the best score and parameter to use\n",
    "\n",
    "best_accuracy_score = max(test_results)\n",
    "best_min_samples_leaf = min_samples_leafs[test_results.index(best_accuracy_score)]\n",
    "print ('Best Min Samples Leaf Value:', best_min_samples_leaf)\n",
    "print ('Corresponding Accuracy Value:', best_accuracy_score)"
   ]
  },
  {
   "cell_type": "markdown",
   "metadata": {},
   "source": [
    "### Max Features"
   ]
  },
  {
   "cell_type": "code",
   "execution_count": 590,
   "metadata": {},
   "outputs": [
    {
     "data": {
      "image/png": "[encoded data removed]",
      "text/plain": [
       "<matplotlib.figure.Figure at 0x1c8891cacf8>"
      ]
     },
     "metadata": {},
     "output_type": "display_data"
    },
    {
     "name": "stdout",
     "output_type": "stream",
     "text": [
      "Best Max Feature Value: 154\n",
      "Corresponding Accuracy Value: 0.6129032258064516\n"
     ]
    }
   ],
   "source": [
    "max_features = list(range(1,final_input_data_fs.shape[1]))\n",
    "train_results = []\n",
    "test_results = []\n",
    "for max_feature in max_features:\n",
    "    dt = DecisionTreeClassifier(class_weight=None, criterion='gini', max_depth=None,\n",
    "                                     max_features=max_feature, max_leaf_nodes=None,\n",
    "                                     min_impurity_split=1e-07, min_samples_leaf=1,\n",
    "                                     min_samples_split=2, min_weight_fraction_leaf=0.0,\n",
    "                                     presort=False, random_state=100, splitter='best')\n",
    "    dt.fit(X_train, Y_train)\n",
    "    train_pred = dt.predict(X_train)\n",
    "    accuracy_train = accuracy_score(Y_train, train_pred)\n",
    "    # Add acc score to previous train results\n",
    "    train_results.append(accuracy_train)\n",
    "    y_pred = dt.predict(X_test)\n",
    "    accuracy_test = accuracy_score(Y_test, y_pred)\n",
    "    # Add acc score to previous test results\n",
    "    test_results.append(accuracy_test)\n",
    "\n",
    "line1, = plt.plot(max_features, train_results,'b', label=\"Train Accuracy\")\n",
    "line2, = plt.plot(max_features, test_results, 'r', label=\"Test Accuracy\")\n",
    "plt.legend(handler_map={line1: HandlerLine2D(numpoints=2)})\n",
    "plt.ylabel(\"Accuracy score\")\n",
    "plt.xlabel(\"max_features\")\n",
    "plt.show()\n",
    "\n",
    "# Finding the best score and parameter to use\n",
    "\n",
    "best_accuracy_score = max(test_results)\n",
    "best_max_feature = max_features[test_results.index(best_accuracy_score)]\n",
    "print ('Best Max Feature Value:', best_max_feature)\n",
    "print ('Corresponding Accuracy Value:', best_accuracy_score)"
   ]
  },
  {
   "cell_type": "markdown",
   "metadata": {},
   "source": [
    "## Graphing Parameters (Entropy)\n",
    "\n",
    "We are going to plot each parameters on a graph, based on accuracy score as the performance metric. "
   ]
  },
  {
   "cell_type": "markdown",
   "metadata": {},
   "source": [
    "### Max Depth"
   ]
  },
  {
   "cell_type": "code",
   "execution_count": 591,
   "metadata": {},
   "outputs": [
    {
     "data": {
      "image/png": "[encoded data removed]",
      "text/plain": [
       "<matplotlib.figure.Figure at 0x1c8898b4358>"
      ]
     },
     "metadata": {},
     "output_type": "display_data"
    },
    {
     "name": "stdout",
     "output_type": "stream",
     "text": [
      "Best Max Depth Value: 3.0\n",
      "Corresponding Accuracy Value: 0.6720430107526881\n"
     ]
    }
   ],
   "source": [
    "max_depths = np.linspace(1, 32, 32, endpoint=True)\n",
    "train_results = []\n",
    "test_results = []\n",
    "for max_depth in max_depths:\n",
    "    dt = DecisionTreeClassifier(class_weight=None, criterion='entropy', max_depth=max_depth,\n",
    "                                     max_features=None, max_leaf_nodes=None,\n",
    "                                     min_impurity_split=1e-07, min_samples_leaf=1,\n",
    "                                     min_samples_split=2, min_weight_fraction_leaf=0.0,\n",
    "                                     presort=False, random_state=100, splitter='best')\n",
    "    dt.fit(X_train, Y_train)\n",
    "    train_pred = dt.predict(X_train)\n",
    "    accuracy_train = accuracy_score(Y_train, train_pred)\n",
    "    # Add acc score to previous train results\n",
    "    train_results.append(accuracy_train)\n",
    "    y_pred = dt.predict(X_test)\n",
    "    accuracy_test = accuracy_score(Y_test, y_pred)\n",
    "    # Add acc score to previous test results\n",
    "    test_results.append(accuracy_test)\n",
    "\n",
    "line1, = plt.plot(max_depths, train_results,'b', label=\"Train Accuracy\")\n",
    "line2, = plt.plot(max_depths, test_results, 'r', label=\"Test Accuracy\")\n",
    "plt.legend(handler_map={line1: HandlerLine2D(numpoints=2)})\n",
    "plt.ylabel(\"Accuracy score\")\n",
    "plt.xlabel(\"Tree depth\")\n",
    "plt.show()\n",
    "\n",
    "# Finding the best score and parameter to use\n",
    "\n",
    "best_accuracy_score = max(test_results)\n",
    "best_max_depth = max_depths[test_results.index(best_accuracy_score)]\n",
    "print ('Best Max Depth Value:', best_max_depth)\n",
    "print ('Corresponding Accuracy Value:', best_accuracy_score)"
   ]
  },
  {
   "cell_type": "markdown",
   "metadata": {},
   "source": [
    "### Min Sample Split"
   ]
  },
  {
   "cell_type": "code",
   "execution_count": 592,
   "metadata": {},
   "outputs": [
    {
     "data": {
      "image/png": "[encoded data removed]",
      "text/plain": [
       "<matplotlib.figure.Figure at 0x1c8895cc710>"
      ]
     },
     "metadata": {},
     "output_type": "display_data"
    },
    {
     "name": "stdout",
     "output_type": "stream",
     "text": [
      "Best Min Sample Split Value: 89.0\n",
      "Corresponding Accuracy Value: 0.6491935483870968\n"
     ]
    }
   ],
   "source": [
    "min_samples_splits = np.linspace(2, 100, 99, endpoint=True)\n",
    "train_results = []\n",
    "test_results = []\n",
    "for min_samples_split in min_samples_splits:\n",
    "    dt = DecisionTreeClassifier(class_weight=None, criterion='entropy', max_depth=None,\n",
    "                                     max_features=None, max_leaf_nodes=None,\n",
    "                                     min_impurity_split=1e-07, min_samples_leaf=1,\n",
    "                                     min_samples_split=int(min_samples_split), min_weight_fraction_leaf=0.0,\n",
    "                                     presort=False, random_state=100, splitter='best')\n",
    "    dt.fit(X_train, Y_train)\n",
    "    train_pred = dt.predict(X_train)\n",
    "    accuracy_train = accuracy_score(Y_train, train_pred)\n",
    "    # Add acc score to previous train results\n",
    "    train_results.append(accuracy_train)\n",
    "    y_pred = dt.predict(X_test)\n",
    "    accuracy_test = accuracy_score(Y_test, y_pred)\n",
    "    # Add acc score to previous test results\n",
    "    test_results.append(accuracy_test)\n",
    "\n",
    "line1, = plt.plot(min_samples_splits, train_results,'b', label=\"Train Accuracy\")\n",
    "line2, = plt.plot(min_samples_splits, test_results, 'r', label=\"Test Accuracy\")\n",
    "plt.legend(handler_map={line1: HandlerLine2D(numpoints=2)})\n",
    "plt.ylabel(\"Accuracy score\")\n",
    "plt.xlabel(\"min samples split\")\n",
    "plt.show()\n",
    "\n",
    "# Finding the best score and parameter to use\n",
    "\n",
    "best_accuracy_score = max(test_results)\n",
    "best_min_samples_split = min_samples_splits[test_results.index(best_accuracy_score)]\n",
    "print ('Best Min Sample Split Value:', best_min_samples_split)\n",
    "print ('Corresponding Accuracy Value:', best_accuracy_score)"
   ]
  },
  {
   "cell_type": "markdown",
   "metadata": {},
   "source": [
    "### Min Samples Leaf"
   ]
  },
  {
   "cell_type": "code",
   "execution_count": 593,
   "metadata": {},
   "outputs": [
    {
     "data": {
      "image/png": "[encoded data removed]",
      "text/plain": [
       "<matplotlib.figure.Figure at 0x1c8895cc6d8>"
      ]
     },
     "metadata": {},
     "output_type": "display_data"
    },
    {
     "name": "stdout",
     "output_type": "stream",
     "text": [
      "Best Min Samples Leaf Value: 47.0\n",
      "Corresponding Accuracy Value: 0.6693548387096774\n"
     ]
    }
   ],
   "source": [
    "min_samples_leafs = np.linspace(1, 80, 80, endpoint=True)\n",
    "train_results = []\n",
    "test_results = []\n",
    "for min_samples_leaf in min_samples_leafs:\n",
    "    dt = DecisionTreeClassifier(class_weight=None, criterion='entropy', max_depth=None,\n",
    "                                     max_features=None, max_leaf_nodes=None,\n",
    "                                     min_impurity_split=1e-07, min_samples_leaf=int(min_samples_leaf),\n",
    "                                     min_samples_split=2, min_weight_fraction_leaf=0.0,\n",
    "                                     presort=False, random_state=100, splitter='best')\n",
    "    dt.fit(X_train, Y_train)\n",
    "    train_pred = dt.predict(X_train)\n",
    "    accuracy_train = accuracy_score(Y_train, train_pred)\n",
    "    # Add acc score to previous train results\n",
    "    train_results.append(accuracy_train)\n",
    "    y_pred = dt.predict(X_test)\n",
    "    accuracy_test = accuracy_score(Y_test, y_pred)\n",
    "    # Add acc score to previous test results\n",
    "    test_results.append(accuracy_test)\n",
    "\n",
    "line1, = plt.plot(min_samples_leafs, train_results,'b', label=\"Train Accuracy\")\n",
    "line2, = plt.plot(min_samples_leafs, test_results, 'r', label=\"Test Accuracy\")\n",
    "plt.legend(handler_map={line1: HandlerLine2D(numpoints=2)})\n",
    "plt.ylabel(\"Accuracy score\")\n",
    "plt.xlabel(\"min samples leaf\")\n",
    "plt.show()\n",
    "\n",
    "# Finding the best score and parameter to use\n",
    "\n",
    "best_accuracy_score = max(test_results)\n",
    "best_min_samples_leaf = min_samples_leafs[test_results.index(best_accuracy_score)]\n",
    "print ('Best Min Samples Leaf Value:', best_min_samples_leaf)\n",
    "print ('Corresponding Accuracy Value:', best_accuracy_score)"
   ]
  },
  {
   "cell_type": "markdown",
   "metadata": {},
   "source": [
    "### Max Features"
   ]
  },
  {
   "cell_type": "code",
   "execution_count": 595,
   "metadata": {},
   "outputs": [
    {
     "data": {
      "image/png": "[encoded data removed]",
      "text/plain": [
       "<matplotlib.figure.Figure at 0x1c88ca1b320>"
      ]
     },
     "metadata": {},
     "output_type": "display_data"
    },
    {
     "name": "stdout",
     "output_type": "stream",
     "text": [
      "Best Max Feature Value: 57\n",
      "Corresponding Accuracy Value: 0.6048387096774194\n"
     ]
    }
   ],
   "source": [
    "max_features = list(range(1,final_input_data_fs.shape[1]))\n",
    "train_results = []\n",
    "test_results = []\n",
    "for max_feature in max_features:\n",
    "    dt = DecisionTreeClassifier(class_weight=None, criterion='entropy', max_depth=None,\n",
    "                                     max_features=max_feature, max_leaf_nodes=None,\n",
    "                                     min_impurity_split=1e-07, min_samples_leaf=1,\n",
    "                                     min_samples_split=2, min_weight_fraction_leaf=0.0,\n",
    "                                     presort=False, random_state=100, splitter='best')\n",
    "    dt.fit(X_train, Y_train)\n",
    "    train_pred = dt.predict(X_train)\n",
    "    accuracy_train = accuracy_score(Y_train, train_pred)\n",
    "    # Add acc score to previous train results\n",
    "    train_results.append(accuracy_train)\n",
    "    y_pred = dt.predict(X_test)\n",
    "    accuracy_test = accuracy_score(Y_test, y_pred)\n",
    "    # Add acc score to previous test results\n",
    "    test_results.append(accuracy_test)\n",
    "\n",
    "line1, = plt.plot(max_features, train_results,'b', label=\"Train Accuracy\")\n",
    "line2, = plt.plot(max_features, test_results, 'r', label=\"Test Accuracy\")\n",
    "plt.legend(handler_map={line1: HandlerLine2D(numpoints=2)})\n",
    "plt.ylabel(\"Accuracy score\")\n",
    "plt.xlabel(\"max_features\")\n",
    "plt.show()\n",
    "\n",
    "# Finding the best score and parameter to use\n",
    "\n",
    "best_accuracy_score = max(test_results)\n",
    "best_max_feature = max_features[test_results.index(best_accuracy_score)]\n",
    "print ('Best Max Feature Value:', best_max_feature)\n",
    "print ('Corresponding Accuracy Value:', best_accuracy_score)"
   ]
  },
  {
   "cell_type": "markdown",
   "metadata": {
    "collapsed": true
   },
   "source": [
    "## Final Tuning of Parameters\n",
    "Since there is no difference at the accuracy level between using information gain or gini coefficient, we should try changing the other parameters. \n",
    "Lets try to increase the max depth to see how that would change the result"
   ]
  },
  {
   "cell_type": "code",
   "execution_count": null,
   "metadata": {},
   "outputs": [],
   "source": [
    "clf_gini = DecisionTreeClassifier(class_weight=None, criterion='gini', max_depth=None,\n",
    "                                     max_features=None, max_leaf_nodes=None,\n",
    "                                     min_impurity_split=1e-07, min_samples_leaf=52,\n",
    "                                     min_samples_split=2, min_weight_fraction_leaf=0.0,\n",
    "                                     presort=False, random_state=100, splitter='best')\n",
    "clf_gini.fit(X_train, Y_train)\n",
    "\n",
    "clf_entropy = DecisionTreeClassifier(class_weight=None, criterion='entropy', max_depth=None,\n",
    "                                     max_features=None, max_leaf_nodes=None,\n",
    "                                     min_impurity_split=1e-07, min_samples_leaf=52,\n",
    "                                     min_samples_split=2, min_weight_fraction_leaf=0.0,\n",
    "                                     presort=False, random_state=100, splitter='best')\n",
    "clf_entropy.fit(X_train, Y_train)"
   ]
  },
  {
   "cell_type": "code",
   "execution_count": null,
   "metadata": {},
   "outputs": [],
   "source": [
    "# predict( ) will do the model prediction, predict y based on the input x\n",
    "Y_predict_gini = clf_gini.predict(X_test)\n",
    "print ('testing acc for gini is %f' %accuracy_score(Y_predict_gini, Y_test))\n",
    "Y_predict_entropy = clf_entropy.predict(X_test)\n",
    "print ('testing acc for entropy is %f' %accuracy_score(Y_predict_entropy, Y_test))"
   ]
  },
  {
   "cell_type": "code",
   "execution_count": null,
   "metadata": {},
   "outputs": [],
   "source": [
    "# predict( ) will do the model prediction, predict y based on the input x\n",
    "print ('testing f1 score for Gini after feature selection is %f' %f1_score(Y_test_fs, Y_predict_gini, labels=[1,2,3,4], average='weighted'))\n",
    "print ('testing f1 score for Entropy after feature selection is %f' %f1_score(Y_test_fs, Y_predict_entropy, labels=[1,2,3,4], average='weighted'))"
   ]
  },
  {
   "cell_type": "code",
   "execution_count": null,
   "metadata": {},
   "outputs": [],
   "source": [
    "# look at classification report for the above tuning.\n",
    "print (\"Classification report for Gini: \\n\", classification_report(Y_test, Y_predict_gini))\n",
    "print (\"Classification report for Entropy: \\n\", classification_report(Y_test, Y_predict_entropy))"
   ]
  },
  {
   "cell_type": "code",
   "execution_count": null,
   "metadata": {
    "collapsed": true
   },
   "outputs": [],
   "source": []
  }
 ],
 "metadata": {
  "kernelspec": {
   "display_name": "Python 3",
   "language": "python",
   "name": "python3"
  },
  "language_info": {
   "codemirror_mode": {
    "name": "ipython",
    "version": 3
   },
   "file_extension": ".py",
   "mimetype": "text/x-python",
   "name": "python",
   "nbconvert_exporter": "python",
   "pygments_lexer": "ipython3",
   "version": "3.6.1"
  }
 },
 "nbformat": 4,
 "nbformat_minor": 2
}
